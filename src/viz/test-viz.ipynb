{
 "cells": [
  {
   "cell_type": "code",
   "execution_count": 1,
   "metadata": {
    "collapsed": true
   },
   "outputs": [
    {
     "name": "stdout",
     "output_type": "stream",
     "text": [
      "Hello world\n"
     ]
    }
   ],
   "source": [
    "print('Hello world')"
   ]
  },
  {
   "cell_type": "code",
   "execution_count": 2,
   "metadata": {},
   "outputs": [
    {
     "name": "stdout",
     "output_type": "stream",
     "text": [
      "This application is used to convert notebook files (*.ipynb) to various other\nformats.\n\nWARNING: THE COMMANDLINE INTERFACE MAY CHANGE IN FUTURE RELEASES.\n\nOptions\n\n-------\n\n\n\nArguments that take values are actually convenience aliases to full\nConfigurables, whose aliases are listed on the help line. For more information\non full configurables, see '--help-all'.\n\n\n--debug\n\n    set log level to logging.DEBUG (maximize logging output)\n\n--generate-config\n\n    generate default config file\n\n-y\n\n    Answer yes to any questions instead of prompting.\n\n--execute\n\n    Execute the notebook prior to export.\n\n--allow-errors\n\n    Continue notebook execution even if one of the cells throws an error and include the error message in the cell output (the default behaviour is to abort conversion). This flag is only relevant if '--execute' was specified, too.\n\n--stdin\n\n    read a single notebook file from stdin. Write the resulting notebook with default basename 'notebook.*'\n\n--stdout\n\n    Write notebook output to stdout instead of files.\n\n--inplace\n\n    Run nbconvert in place, overwriting the existing notebook (only \n    relevant when converting to notebook format)\n\n--clear-output\n\n    Clear output of current file and save in place, \n    overwriting the existing notebook.\n\n--no-prompt\n\n    Exclude input and output prompts from converted document.\n--log-level=<Enum> (Application.log_level)\n\n    Default: 30\n\n    Choices: (0, 10, 20, 30, 40, 50, 'DEBUG', 'INFO', 'WARN', 'ERROR', 'CRITICAL')\n\n    Set the log level by value or name.\n\n--config=<Unicode> (JupyterApp.config_file)\n\n    Default: ''\n\n    Full path of a config file.\n\n--to=<Unicode> (NbConvertApp.export_format)\n\n    Default: 'html'\n\n    The export format to be used, either one of the built-in formats, or a\n\n    dotted object name that represents the import path for an `Exporter` class\n\n--template=<Unicode> (TemplateExporter.template_file)\n\n    Default: ''\n\n    Name of the template file to use\n\n--writer=<DottedObjectName> (NbConvertApp.writer_class)\n\n    Default: 'FilesWriter'\n\n    Writer class used to write the  results of the conversion\n\n--post=<DottedOrNone> (NbConvertApp.postprocessor_class)\n\n    Default: ''\n\n    PostProcessor class used to write the results of the conversion\n\n--output=<Unicode> (NbConvertApp.output_base)\n\n    Default: ''\n\n    overwrite base name use for output files. can only be used when converting\n\n    one notebook at a time.\n\n--output-dir=<Unicode> (FilesWriter.build_directory)\n\n    Default: ''\n\n    Directory to write output(s) to. Defaults to output to the directory of each\n\n    notebook. To recover previous default behaviour (outputting to the current\n\n    working directory) use . as the flag value.\n\n--reveal-prefix=<Unicode> (SlidesExporter.reveal_url_prefix)\n\n    Default: ''\n\n    The URL prefix for reveal.js. This can be a a relative URL for a local copy\n\n    of reveal.js, or point to a CDN.\n\n    For speaker notes to work, a local reveal.js prefix must be used.\n\n--nbformat=<Enum> (NotebookExporter.nbformat_version)\n\n    Default: 4\n\n    Choices: [1, 2, 3, 4]\n\n    The nbformat version to write. Use this to downgrade notebooks.\n\nTo see all available configurables, use `--help-all`\n\nExamples\n--------\n\n    The simplest way to use nbconvert is\n    \n    > jupyter nbconvert mynotebook.ipynb\n    \n    which will convert mynotebook.ipynb to the default format (probably HTML).\n    \n    You can specify the export format with `--to`.\n    Options include ['asciidoc', 'custom', 'html', 'latex', 'markdown', 'notebook', 'pdf', 'python', 'rst', 'script', 'slides']\n    \n    > jupyter nbconvert --to latex mynotebook.ipynb\n    \n    Both HTML and LaTeX support multiple output templates. LaTeX includes\n    'base', 'article' and 'report'.  HTML includes 'basic' and 'full'. You\n    can specify the flavor of the format used.\n    \n    > jupyter nbconvert --to html --template basic mynotebook.ipynb\n    \n    You can also pipe the output to stdout, rather than a file\n    \n    > jupyter nbconvert mynotebook.ipynb --stdout\n    \n    PDF is generated via latex\n    \n    > jupyter nbconvert mynotebook.ipynb --to pdf\n    \n    You can get (and serve) a Reveal.js-powered slideshow\n    \n    > jupyter nbconvert myslides.ipynb --to slides --post serve\n    \n    Multiple notebooks can be given at the command line in a couple of \n    different ways:\n    \n    > jupyter nbconvert notebook*.ipynb\n    > jupyter nbconvert notebook1.ipynb notebook2.ipynb\n    \n    or you can specify the notebooks list in a config file, containing::\n    \n        c.NbConvertApp.notebooks = [\"my_notebook.ipynb\"]\n    \n    > jupyter nbconvert --config mycfg.py\n\n"
     ]
    },
    {
     "name": "stderr",
     "output_type": "stream",
     "text": [
      "[NbConvertApp] WARNING | pattern 'test-viz.ipynb' matched no files\n"
     ]
    }
   ],
   "source": [
    "!jupyter nbconvert --to html test-viz.ipynb"
   ]
  },
  {
   "cell_type": "code",
   "execution_count": null,
   "metadata": {},
   "outputs": [],
   "source": []
  }
 ],
 "metadata": {
  "kernelspec": {
   "display_name": "Python 2",
   "language": "python",
   "name": "python2"
  },
  "language_info": {
   "codemirror_mode": {
    "name": "ipython",
    "version": 2
   },
   "file_extension": ".py",
   "mimetype": "text/x-python",
   "name": "python",
   "nbconvert_exporter": "python",
   "pygments_lexer": "ipython2",
   "version": "2.7.6"
  }
 },
 "nbformat": 4,
 "nbformat_minor": 0
}
